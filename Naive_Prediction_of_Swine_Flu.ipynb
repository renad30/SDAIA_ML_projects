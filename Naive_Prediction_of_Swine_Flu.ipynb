{
  "nbformat": 4,
  "nbformat_minor": 0,
  "metadata": {
    "colab": {
      "provenance": [],
      "include_colab_link": true
    },
    "kernelspec": {
      "name": "python3",
      "display_name": "Python 3"
    },
    "language_info": {
      "name": "python"
    }
  },
  "cells": [
    {
      "cell_type": "markdown",
      "metadata": {
        "id": "view-in-github",
        "colab_type": "text"
      },
      "source": [
        "<a href=\"https://colab.research.google.com/github/renad30/SDAIA_ML_projects/blob/main/Naive_Prediction_of_Swine_Flu.ipynb\" target=\"_parent\"><img src=\"https://colab.research.google.com/assets/colab-badge.svg\" alt=\"Open In Colab\"/></a>"
      ]
    },
    {
      "cell_type": "markdown",
      "source": [
        "#**A Naive Prediction of Swine Flu**\n",
        "---\n",
        "\n",
        "<br>**Dataset Explanation:** We will work on a Swine Flu dataset that tells us if a person has the flu or not based on the symptoms he/she is experiencing. The columns in this dataset are:<br>\n",
        "* Chills: A feature telling if the person has chills or not.\n",
        "* Runny nose: A feature telling if the person has a runny nose or not.\n",
        "* Headache: A feature telling the level of headache that a person is experiencing (It could be Miild, Moderate, or No headache).\n",
        "* Fever: A feature telling if the person has fever or not.\n",
        "* Flu: The target value that tells us if the person has the flu or not."
      ],
      "metadata": {
        "id": "5r_EIDfNe-og"
      }
    },
    {
      "cell_type": "markdown",
      "metadata": {
        "id": "Bw-ThFM9eDIS"
      },
      "source": [
        "#Importing Librarires"
      ]
    },
    {
      "cell_type": "code",
      "metadata": {
        "id": "Rapla3NhdNO9"
      },
      "source": [
        "import numpy as np\n",
        "import pandas as pd\n",
        "import matplotlib.pyplot as plt\n",
        "import seaborn as sns\n",
        "from sklearn import preprocessing"
      ],
      "execution_count": 1,
      "outputs": []
    },
    {
      "cell_type": "markdown",
      "metadata": {
        "id": "YWCQa0V4eHia"
      },
      "source": [
        "#Loading the Dataset"
      ]
    },
    {
      "cell_type": "markdown",
      "source": [
        "For this notebook, we will work with the **flu.csv** file."
      ],
      "metadata": {
        "id": "-IAM5Pt3ezvt"
      }
    },
    {
      "cell_type": "markdown",
      "metadata": {
        "id": "CcQyeZG1edGa"
      },
      "source": [
        "First we need to take a look at the dataset before starting to work on it."
      ]
    },
    {
      "cell_type": "code",
      "metadata": {
        "id": "tByNsaj8eCSA",
        "colab": {
          "base_uri": "https://localhost:8080/",
          "height": 206
        },
        "outputId": "7bb4edb9-e3f6-4ec0-a3c8-100af7d96da2"
      },
      "source": [
        "df=pd.read_csv('/content/flu.csv')\n",
        "\n",
        "df.head()"
      ],
      "execution_count": 4,
      "outputs": [
        {
          "output_type": "execute_result",
          "data": {
            "text/plain": [
              "  Chills runny nose head ache fever Flu\n",
              "0      Y          N      Mild     Y   N\n",
              "1      Y          Y        No     N   Y\n",
              "2      Y          N    Strong     Y   Y\n",
              "3      N          Y      Mild     Y   Y\n",
              "4      N          N        No     N   N"
            ],
            "text/html": [
              "\n",
              "  <div id=\"df-6681e9ed-6c62-4e63-860b-4d0ced974411\" class=\"colab-df-container\">\n",
              "    <div>\n",
              "<style scoped>\n",
              "    .dataframe tbody tr th:only-of-type {\n",
              "        vertical-align: middle;\n",
              "    }\n",
              "\n",
              "    .dataframe tbody tr th {\n",
              "        vertical-align: top;\n",
              "    }\n",
              "\n",
              "    .dataframe thead th {\n",
              "        text-align: right;\n",
              "    }\n",
              "</style>\n",
              "<table border=\"1\" class=\"dataframe\">\n",
              "  <thead>\n",
              "    <tr style=\"text-align: right;\">\n",
              "      <th></th>\n",
              "      <th>Chills</th>\n",
              "      <th>runny nose</th>\n",
              "      <th>head ache</th>\n",
              "      <th>fever</th>\n",
              "      <th>Flu</th>\n",
              "    </tr>\n",
              "  </thead>\n",
              "  <tbody>\n",
              "    <tr>\n",
              "      <th>0</th>\n",
              "      <td>Y</td>\n",
              "      <td>N</td>\n",
              "      <td>Mild</td>\n",
              "      <td>Y</td>\n",
              "      <td>N</td>\n",
              "    </tr>\n",
              "    <tr>\n",
              "      <th>1</th>\n",
              "      <td>Y</td>\n",
              "      <td>Y</td>\n",
              "      <td>No</td>\n",
              "      <td>N</td>\n",
              "      <td>Y</td>\n",
              "    </tr>\n",
              "    <tr>\n",
              "      <th>2</th>\n",
              "      <td>Y</td>\n",
              "      <td>N</td>\n",
              "      <td>Strong</td>\n",
              "      <td>Y</td>\n",
              "      <td>Y</td>\n",
              "    </tr>\n",
              "    <tr>\n",
              "      <th>3</th>\n",
              "      <td>N</td>\n",
              "      <td>Y</td>\n",
              "      <td>Mild</td>\n",
              "      <td>Y</td>\n",
              "      <td>Y</td>\n",
              "    </tr>\n",
              "    <tr>\n",
              "      <th>4</th>\n",
              "      <td>N</td>\n",
              "      <td>N</td>\n",
              "      <td>No</td>\n",
              "      <td>N</td>\n",
              "      <td>N</td>\n",
              "    </tr>\n",
              "  </tbody>\n",
              "</table>\n",
              "</div>\n",
              "    <div class=\"colab-df-buttons\">\n",
              "\n",
              "  <div class=\"colab-df-container\">\n",
              "    <button class=\"colab-df-convert\" onclick=\"convertToInteractive('df-6681e9ed-6c62-4e63-860b-4d0ced974411')\"\n",
              "            title=\"Convert this dataframe to an interactive table.\"\n",
              "            style=\"display:none;\">\n",
              "\n",
              "  <svg xmlns=\"http://www.w3.org/2000/svg\" height=\"24px\" viewBox=\"0 -960 960 960\">\n",
              "    <path d=\"M120-120v-720h720v720H120Zm60-500h600v-160H180v160Zm220 220h160v-160H400v160Zm0 220h160v-160H400v160ZM180-400h160v-160H180v160Zm440 0h160v-160H620v160ZM180-180h160v-160H180v160Zm440 0h160v-160H620v160Z\"/>\n",
              "  </svg>\n",
              "    </button>\n",
              "\n",
              "  <style>\n",
              "    .colab-df-container {\n",
              "      display:flex;\n",
              "      gap: 12px;\n",
              "    }\n",
              "\n",
              "    .colab-df-convert {\n",
              "      background-color: #E8F0FE;\n",
              "      border: none;\n",
              "      border-radius: 50%;\n",
              "      cursor: pointer;\n",
              "      display: none;\n",
              "      fill: #1967D2;\n",
              "      height: 32px;\n",
              "      padding: 0 0 0 0;\n",
              "      width: 32px;\n",
              "    }\n",
              "\n",
              "    .colab-df-convert:hover {\n",
              "      background-color: #E2EBFA;\n",
              "      box-shadow: 0px 1px 2px rgba(60, 64, 67, 0.3), 0px 1px 3px 1px rgba(60, 64, 67, 0.15);\n",
              "      fill: #174EA6;\n",
              "    }\n",
              "\n",
              "    .colab-df-buttons div {\n",
              "      margin-bottom: 4px;\n",
              "    }\n",
              "\n",
              "    [theme=dark] .colab-df-convert {\n",
              "      background-color: #3B4455;\n",
              "      fill: #D2E3FC;\n",
              "    }\n",
              "\n",
              "    [theme=dark] .colab-df-convert:hover {\n",
              "      background-color: #434B5C;\n",
              "      box-shadow: 0px 1px 3px 1px rgba(0, 0, 0, 0.15);\n",
              "      filter: drop-shadow(0px 1px 2px rgba(0, 0, 0, 0.3));\n",
              "      fill: #FFFFFF;\n",
              "    }\n",
              "  </style>\n",
              "\n",
              "    <script>\n",
              "      const buttonEl =\n",
              "        document.querySelector('#df-6681e9ed-6c62-4e63-860b-4d0ced974411 button.colab-df-convert');\n",
              "      buttonEl.style.display =\n",
              "        google.colab.kernel.accessAllowed ? 'block' : 'none';\n",
              "\n",
              "      async function convertToInteractive(key) {\n",
              "        const element = document.querySelector('#df-6681e9ed-6c62-4e63-860b-4d0ced974411');\n",
              "        const dataTable =\n",
              "          await google.colab.kernel.invokeFunction('convertToInteractive',\n",
              "                                                    [key], {});\n",
              "        if (!dataTable) return;\n",
              "\n",
              "        const docLinkHtml = 'Like what you see? Visit the ' +\n",
              "          '<a target=\"_blank\" href=https://colab.research.google.com/notebooks/data_table.ipynb>data table notebook</a>'\n",
              "          + ' to learn more about interactive tables.';\n",
              "        element.innerHTML = '';\n",
              "        dataTable['output_type'] = 'display_data';\n",
              "        await google.colab.output.renderOutput(dataTable, element);\n",
              "        const docLink = document.createElement('div');\n",
              "        docLink.innerHTML = docLinkHtml;\n",
              "        element.appendChild(docLink);\n",
              "      }\n",
              "    </script>\n",
              "  </div>\n",
              "\n",
              "\n",
              "<div id=\"df-913eb847-dcef-418a-9b5d-5975798238af\">\n",
              "  <button class=\"colab-df-quickchart\" onclick=\"quickchart('df-913eb847-dcef-418a-9b5d-5975798238af')\"\n",
              "            title=\"Suggest charts\"\n",
              "            style=\"display:none;\">\n",
              "\n",
              "<svg xmlns=\"http://www.w3.org/2000/svg\" height=\"24px\"viewBox=\"0 0 24 24\"\n",
              "     width=\"24px\">\n",
              "    <g>\n",
              "        <path d=\"M19 3H5c-1.1 0-2 .9-2 2v14c0 1.1.9 2 2 2h14c1.1 0 2-.9 2-2V5c0-1.1-.9-2-2-2zM9 17H7v-7h2v7zm4 0h-2V7h2v10zm4 0h-2v-4h2v4z\"/>\n",
              "    </g>\n",
              "</svg>\n",
              "  </button>\n",
              "\n",
              "<style>\n",
              "  .colab-df-quickchart {\n",
              "      --bg-color: #E8F0FE;\n",
              "      --fill-color: #1967D2;\n",
              "      --hover-bg-color: #E2EBFA;\n",
              "      --hover-fill-color: #174EA6;\n",
              "      --disabled-fill-color: #AAA;\n",
              "      --disabled-bg-color: #DDD;\n",
              "  }\n",
              "\n",
              "  [theme=dark] .colab-df-quickchart {\n",
              "      --bg-color: #3B4455;\n",
              "      --fill-color: #D2E3FC;\n",
              "      --hover-bg-color: #434B5C;\n",
              "      --hover-fill-color: #FFFFFF;\n",
              "      --disabled-bg-color: #3B4455;\n",
              "      --disabled-fill-color: #666;\n",
              "  }\n",
              "\n",
              "  .colab-df-quickchart {\n",
              "    background-color: var(--bg-color);\n",
              "    border: none;\n",
              "    border-radius: 50%;\n",
              "    cursor: pointer;\n",
              "    display: none;\n",
              "    fill: var(--fill-color);\n",
              "    height: 32px;\n",
              "    padding: 0;\n",
              "    width: 32px;\n",
              "  }\n",
              "\n",
              "  .colab-df-quickchart:hover {\n",
              "    background-color: var(--hover-bg-color);\n",
              "    box-shadow: 0 1px 2px rgba(60, 64, 67, 0.3), 0 1px 3px 1px rgba(60, 64, 67, 0.15);\n",
              "    fill: var(--button-hover-fill-color);\n",
              "  }\n",
              "\n",
              "  .colab-df-quickchart-complete:disabled,\n",
              "  .colab-df-quickchart-complete:disabled:hover {\n",
              "    background-color: var(--disabled-bg-color);\n",
              "    fill: var(--disabled-fill-color);\n",
              "    box-shadow: none;\n",
              "  }\n",
              "\n",
              "  .colab-df-spinner {\n",
              "    border: 2px solid var(--fill-color);\n",
              "    border-color: transparent;\n",
              "    border-bottom-color: var(--fill-color);\n",
              "    animation:\n",
              "      spin 1s steps(1) infinite;\n",
              "  }\n",
              "\n",
              "  @keyframes spin {\n",
              "    0% {\n",
              "      border-color: transparent;\n",
              "      border-bottom-color: var(--fill-color);\n",
              "      border-left-color: var(--fill-color);\n",
              "    }\n",
              "    20% {\n",
              "      border-color: transparent;\n",
              "      border-left-color: var(--fill-color);\n",
              "      border-top-color: var(--fill-color);\n",
              "    }\n",
              "    30% {\n",
              "      border-color: transparent;\n",
              "      border-left-color: var(--fill-color);\n",
              "      border-top-color: var(--fill-color);\n",
              "      border-right-color: var(--fill-color);\n",
              "    }\n",
              "    40% {\n",
              "      border-color: transparent;\n",
              "      border-right-color: var(--fill-color);\n",
              "      border-top-color: var(--fill-color);\n",
              "    }\n",
              "    60% {\n",
              "      border-color: transparent;\n",
              "      border-right-color: var(--fill-color);\n",
              "    }\n",
              "    80% {\n",
              "      border-color: transparent;\n",
              "      border-right-color: var(--fill-color);\n",
              "      border-bottom-color: var(--fill-color);\n",
              "    }\n",
              "    90% {\n",
              "      border-color: transparent;\n",
              "      border-bottom-color: var(--fill-color);\n",
              "    }\n",
              "  }\n",
              "</style>\n",
              "\n",
              "  <script>\n",
              "    async function quickchart(key) {\n",
              "      const quickchartButtonEl =\n",
              "        document.querySelector('#' + key + ' button');\n",
              "      quickchartButtonEl.disabled = true;  // To prevent multiple clicks.\n",
              "      quickchartButtonEl.classList.add('colab-df-spinner');\n",
              "      try {\n",
              "        const charts = await google.colab.kernel.invokeFunction(\n",
              "            'suggestCharts', [key], {});\n",
              "      } catch (error) {\n",
              "        console.error('Error during call to suggestCharts:', error);\n",
              "      }\n",
              "      quickchartButtonEl.classList.remove('colab-df-spinner');\n",
              "      quickchartButtonEl.classList.add('colab-df-quickchart-complete');\n",
              "    }\n",
              "    (() => {\n",
              "      let quickchartButtonEl =\n",
              "        document.querySelector('#df-913eb847-dcef-418a-9b5d-5975798238af button');\n",
              "      quickchartButtonEl.style.display =\n",
              "        google.colab.kernel.accessAllowed ? 'block' : 'none';\n",
              "    })();\n",
              "  </script>\n",
              "</div>\n",
              "\n",
              "    </div>\n",
              "  </div>\n"
            ]
          },
          "metadata": {},
          "execution_count": 4
        }
      ]
    },
    {
      "cell_type": "markdown",
      "metadata": {
        "id": "jJt9HuRwem_B"
      },
      "source": [
        "As we can see, we have 4 features that will predict if the person has the Swine Flu or not."
      ]
    },
    {
      "cell_type": "markdown",
      "metadata": {
        "id": "y69c9g1wfz7I"
      },
      "source": [
        "Let's check the shape of our data."
      ]
    },
    {
      "cell_type": "code",
      "metadata": {
        "id": "vt-IgNONfzcR",
        "colab": {
          "base_uri": "https://localhost:8080/"
        },
        "outputId": "445f983a-6730-46b5-c2c9-da5ed050e0ed"
      },
      "source": [
        "df.shape"
      ],
      "execution_count": 6,
      "outputs": [
        {
          "output_type": "execute_result",
          "data": {
            "text/plain": [
              "(8, 5)"
            ]
          },
          "metadata": {},
          "execution_count": 6
        }
      ]
    },
    {
      "cell_type": "markdown",
      "metadata": {
        "id": "q7APX_Rvf53o"
      },
      "source": [
        "So we have 8 examples in this dataset (A small one! Will be good enough for our demonstration purposes).\n",
        "\n",
        "Let's next explore some information about it."
      ]
    },
    {
      "cell_type": "code",
      "metadata": {
        "id": "vRB5c4jfgdsf",
        "colab": {
          "base_uri": "https://localhost:8080/"
        },
        "outputId": "36e02b74-8de0-44a2-8a88-e2c37500103d"
      },
      "source": [
        "df.info()"
      ],
      "execution_count": 8,
      "outputs": [
        {
          "output_type": "stream",
          "name": "stdout",
          "text": [
            "<class 'pandas.core.frame.DataFrame'>\n",
            "RangeIndex: 8 entries, 0 to 7\n",
            "Data columns (total 5 columns):\n",
            " #   Column      Non-Null Count  Dtype \n",
            "---  ------      --------------  ----- \n",
            " 0   Chills      8 non-null      object\n",
            " 1   runny nose  8 non-null      object\n",
            " 2   head ache   8 non-null      object\n",
            " 3   fever       8 non-null      object\n",
            " 4   Flu         8 non-null      object\n",
            "dtypes: object(5)\n",
            "memory usage: 448.0+ bytes\n"
          ]
        }
      ]
    },
    {
      "cell_type": "markdown",
      "metadata": {
        "id": "TQagSolzMHfK"
      },
      "source": [
        "We do not have any missing values. However, all our features and target variables are of data type object which we can't feed to the model, so we need to clean those."
      ]
    },
    {
      "cell_type": "markdown",
      "metadata": {
        "id": "i_NAc27IfwVJ"
      },
      "source": [
        "#Dataset Preprocessing"
      ]
    },
    {
      "cell_type": "markdown",
      "metadata": {
        "id": "j_y0yDQSf9kQ"
      },
      "source": [
        "## Converting Categorical Features to Numerical"
      ]
    },
    {
      "cell_type": "markdown",
      "metadata": {
        "id": "uyO94JZRgEDy"
      },
      "source": [
        "First thing to consider is changing the categorical features to Numerical in order to feed them to the algorithm so we are able to run the classification.\n",
        "\n",
        "This would be useful when we use the decision trees later as well."
      ]
    },
    {
      "cell_type": "code",
      "metadata": {
        "id": "yDE3JD06fvp7",
        "colab": {
          "base_uri": "https://localhost:8080/",
          "height": 300
        },
        "outputId": "0d0f11c5-3080-4edf-b490-4e5c64f95e9c"
      },
      "source": [
        "encoder = preprocessing.LabelEncoder()\n",
        "\n",
        "df['Chills']=encoder.fit_transform(df['Chills'])\n",
        "df['runny nose']=encoder.fit_transform(df['runny nose'])\n",
        "df['head ache']=encoder.fit_transform(df['head ache'])\n",
        "df['fever']=encoder.fit_transform(df['fever'])\n",
        "df['Flu']=encoder.fit_transform(df['Flu'])\n",
        "\n",
        "\n",
        "\n",
        "df.head(8)"
      ],
      "execution_count": 14,
      "outputs": [
        {
          "output_type": "execute_result",
          "data": {
            "text/plain": [
              "   Chills  runny nose  head ache  fever  Flu\n",
              "0       1           0          0      1    0\n",
              "1       1           1          1      0    1\n",
              "2       1           0          2      1    1\n",
              "3       0           1          0      1    1\n",
              "4       0           0          1      0    0\n",
              "5       0           1          2      1    1\n",
              "6       0           1          2      0    0\n",
              "7       1           1          0      1    1"
            ],
            "text/html": [
              "\n",
              "  <div id=\"df-cdc1c7aa-48ca-417f-aad2-19bb24f3fd88\" class=\"colab-df-container\">\n",
              "    <div>\n",
              "<style scoped>\n",
              "    .dataframe tbody tr th:only-of-type {\n",
              "        vertical-align: middle;\n",
              "    }\n",
              "\n",
              "    .dataframe tbody tr th {\n",
              "        vertical-align: top;\n",
              "    }\n",
              "\n",
              "    .dataframe thead th {\n",
              "        text-align: right;\n",
              "    }\n",
              "</style>\n",
              "<table border=\"1\" class=\"dataframe\">\n",
              "  <thead>\n",
              "    <tr style=\"text-align: right;\">\n",
              "      <th></th>\n",
              "      <th>Chills</th>\n",
              "      <th>runny nose</th>\n",
              "      <th>head ache</th>\n",
              "      <th>fever</th>\n",
              "      <th>Flu</th>\n",
              "    </tr>\n",
              "  </thead>\n",
              "  <tbody>\n",
              "    <tr>\n",
              "      <th>0</th>\n",
              "      <td>1</td>\n",
              "      <td>0</td>\n",
              "      <td>0</td>\n",
              "      <td>1</td>\n",
              "      <td>0</td>\n",
              "    </tr>\n",
              "    <tr>\n",
              "      <th>1</th>\n",
              "      <td>1</td>\n",
              "      <td>1</td>\n",
              "      <td>1</td>\n",
              "      <td>0</td>\n",
              "      <td>1</td>\n",
              "    </tr>\n",
              "    <tr>\n",
              "      <th>2</th>\n",
              "      <td>1</td>\n",
              "      <td>0</td>\n",
              "      <td>2</td>\n",
              "      <td>1</td>\n",
              "      <td>1</td>\n",
              "    </tr>\n",
              "    <tr>\n",
              "      <th>3</th>\n",
              "      <td>0</td>\n",
              "      <td>1</td>\n",
              "      <td>0</td>\n",
              "      <td>1</td>\n",
              "      <td>1</td>\n",
              "    </tr>\n",
              "    <tr>\n",
              "      <th>4</th>\n",
              "      <td>0</td>\n",
              "      <td>0</td>\n",
              "      <td>1</td>\n",
              "      <td>0</td>\n",
              "      <td>0</td>\n",
              "    </tr>\n",
              "    <tr>\n",
              "      <th>5</th>\n",
              "      <td>0</td>\n",
              "      <td>1</td>\n",
              "      <td>2</td>\n",
              "      <td>1</td>\n",
              "      <td>1</td>\n",
              "    </tr>\n",
              "    <tr>\n",
              "      <th>6</th>\n",
              "      <td>0</td>\n",
              "      <td>1</td>\n",
              "      <td>2</td>\n",
              "      <td>0</td>\n",
              "      <td>0</td>\n",
              "    </tr>\n",
              "    <tr>\n",
              "      <th>7</th>\n",
              "      <td>1</td>\n",
              "      <td>1</td>\n",
              "      <td>0</td>\n",
              "      <td>1</td>\n",
              "      <td>1</td>\n",
              "    </tr>\n",
              "  </tbody>\n",
              "</table>\n",
              "</div>\n",
              "    <div class=\"colab-df-buttons\">\n",
              "\n",
              "  <div class=\"colab-df-container\">\n",
              "    <button class=\"colab-df-convert\" onclick=\"convertToInteractive('df-cdc1c7aa-48ca-417f-aad2-19bb24f3fd88')\"\n",
              "            title=\"Convert this dataframe to an interactive table.\"\n",
              "            style=\"display:none;\">\n",
              "\n",
              "  <svg xmlns=\"http://www.w3.org/2000/svg\" height=\"24px\" viewBox=\"0 -960 960 960\">\n",
              "    <path d=\"M120-120v-720h720v720H120Zm60-500h600v-160H180v160Zm220 220h160v-160H400v160Zm0 220h160v-160H400v160ZM180-400h160v-160H180v160Zm440 0h160v-160H620v160ZM180-180h160v-160H180v160Zm440 0h160v-160H620v160Z\"/>\n",
              "  </svg>\n",
              "    </button>\n",
              "\n",
              "  <style>\n",
              "    .colab-df-container {\n",
              "      display:flex;\n",
              "      gap: 12px;\n",
              "    }\n",
              "\n",
              "    .colab-df-convert {\n",
              "      background-color: #E8F0FE;\n",
              "      border: none;\n",
              "      border-radius: 50%;\n",
              "      cursor: pointer;\n",
              "      display: none;\n",
              "      fill: #1967D2;\n",
              "      height: 32px;\n",
              "      padding: 0 0 0 0;\n",
              "      width: 32px;\n",
              "    }\n",
              "\n",
              "    .colab-df-convert:hover {\n",
              "      background-color: #E2EBFA;\n",
              "      box-shadow: 0px 1px 2px rgba(60, 64, 67, 0.3), 0px 1px 3px 1px rgba(60, 64, 67, 0.15);\n",
              "      fill: #174EA6;\n",
              "    }\n",
              "\n",
              "    .colab-df-buttons div {\n",
              "      margin-bottom: 4px;\n",
              "    }\n",
              "\n",
              "    [theme=dark] .colab-df-convert {\n",
              "      background-color: #3B4455;\n",
              "      fill: #D2E3FC;\n",
              "    }\n",
              "\n",
              "    [theme=dark] .colab-df-convert:hover {\n",
              "      background-color: #434B5C;\n",
              "      box-shadow: 0px 1px 3px 1px rgba(0, 0, 0, 0.15);\n",
              "      filter: drop-shadow(0px 1px 2px rgba(0, 0, 0, 0.3));\n",
              "      fill: #FFFFFF;\n",
              "    }\n",
              "  </style>\n",
              "\n",
              "    <script>\n",
              "      const buttonEl =\n",
              "        document.querySelector('#df-cdc1c7aa-48ca-417f-aad2-19bb24f3fd88 button.colab-df-convert');\n",
              "      buttonEl.style.display =\n",
              "        google.colab.kernel.accessAllowed ? 'block' : 'none';\n",
              "\n",
              "      async function convertToInteractive(key) {\n",
              "        const element = document.querySelector('#df-cdc1c7aa-48ca-417f-aad2-19bb24f3fd88');\n",
              "        const dataTable =\n",
              "          await google.colab.kernel.invokeFunction('convertToInteractive',\n",
              "                                                    [key], {});\n",
              "        if (!dataTable) return;\n",
              "\n",
              "        const docLinkHtml = 'Like what you see? Visit the ' +\n",
              "          '<a target=\"_blank\" href=https://colab.research.google.com/notebooks/data_table.ipynb>data table notebook</a>'\n",
              "          + ' to learn more about interactive tables.';\n",
              "        element.innerHTML = '';\n",
              "        dataTable['output_type'] = 'display_data';\n",
              "        await google.colab.output.renderOutput(dataTable, element);\n",
              "        const docLink = document.createElement('div');\n",
              "        docLink.innerHTML = docLinkHtml;\n",
              "        element.appendChild(docLink);\n",
              "      }\n",
              "    </script>\n",
              "  </div>\n",
              "\n",
              "\n",
              "<div id=\"df-e89112d7-ba46-4cd4-a170-aad82298105a\">\n",
              "  <button class=\"colab-df-quickchart\" onclick=\"quickchart('df-e89112d7-ba46-4cd4-a170-aad82298105a')\"\n",
              "            title=\"Suggest charts\"\n",
              "            style=\"display:none;\">\n",
              "\n",
              "<svg xmlns=\"http://www.w3.org/2000/svg\" height=\"24px\"viewBox=\"0 0 24 24\"\n",
              "     width=\"24px\">\n",
              "    <g>\n",
              "        <path d=\"M19 3H5c-1.1 0-2 .9-2 2v14c0 1.1.9 2 2 2h14c1.1 0 2-.9 2-2V5c0-1.1-.9-2-2-2zM9 17H7v-7h2v7zm4 0h-2V7h2v10zm4 0h-2v-4h2v4z\"/>\n",
              "    </g>\n",
              "</svg>\n",
              "  </button>\n",
              "\n",
              "<style>\n",
              "  .colab-df-quickchart {\n",
              "      --bg-color: #E8F0FE;\n",
              "      --fill-color: #1967D2;\n",
              "      --hover-bg-color: #E2EBFA;\n",
              "      --hover-fill-color: #174EA6;\n",
              "      --disabled-fill-color: #AAA;\n",
              "      --disabled-bg-color: #DDD;\n",
              "  }\n",
              "\n",
              "  [theme=dark] .colab-df-quickchart {\n",
              "      --bg-color: #3B4455;\n",
              "      --fill-color: #D2E3FC;\n",
              "      --hover-bg-color: #434B5C;\n",
              "      --hover-fill-color: #FFFFFF;\n",
              "      --disabled-bg-color: #3B4455;\n",
              "      --disabled-fill-color: #666;\n",
              "  }\n",
              "\n",
              "  .colab-df-quickchart {\n",
              "    background-color: var(--bg-color);\n",
              "    border: none;\n",
              "    border-radius: 50%;\n",
              "    cursor: pointer;\n",
              "    display: none;\n",
              "    fill: var(--fill-color);\n",
              "    height: 32px;\n",
              "    padding: 0;\n",
              "    width: 32px;\n",
              "  }\n",
              "\n",
              "  .colab-df-quickchart:hover {\n",
              "    background-color: var(--hover-bg-color);\n",
              "    box-shadow: 0 1px 2px rgba(60, 64, 67, 0.3), 0 1px 3px 1px rgba(60, 64, 67, 0.15);\n",
              "    fill: var(--button-hover-fill-color);\n",
              "  }\n",
              "\n",
              "  .colab-df-quickchart-complete:disabled,\n",
              "  .colab-df-quickchart-complete:disabled:hover {\n",
              "    background-color: var(--disabled-bg-color);\n",
              "    fill: var(--disabled-fill-color);\n",
              "    box-shadow: none;\n",
              "  }\n",
              "\n",
              "  .colab-df-spinner {\n",
              "    border: 2px solid var(--fill-color);\n",
              "    border-color: transparent;\n",
              "    border-bottom-color: var(--fill-color);\n",
              "    animation:\n",
              "      spin 1s steps(1) infinite;\n",
              "  }\n",
              "\n",
              "  @keyframes spin {\n",
              "    0% {\n",
              "      border-color: transparent;\n",
              "      border-bottom-color: var(--fill-color);\n",
              "      border-left-color: var(--fill-color);\n",
              "    }\n",
              "    20% {\n",
              "      border-color: transparent;\n",
              "      border-left-color: var(--fill-color);\n",
              "      border-top-color: var(--fill-color);\n",
              "    }\n",
              "    30% {\n",
              "      border-color: transparent;\n",
              "      border-left-color: var(--fill-color);\n",
              "      border-top-color: var(--fill-color);\n",
              "      border-right-color: var(--fill-color);\n",
              "    }\n",
              "    40% {\n",
              "      border-color: transparent;\n",
              "      border-right-color: var(--fill-color);\n",
              "      border-top-color: var(--fill-color);\n",
              "    }\n",
              "    60% {\n",
              "      border-color: transparent;\n",
              "      border-right-color: var(--fill-color);\n",
              "    }\n",
              "    80% {\n",
              "      border-color: transparent;\n",
              "      border-right-color: var(--fill-color);\n",
              "      border-bottom-color: var(--fill-color);\n",
              "    }\n",
              "    90% {\n",
              "      border-color: transparent;\n",
              "      border-bottom-color: var(--fill-color);\n",
              "    }\n",
              "  }\n",
              "</style>\n",
              "\n",
              "  <script>\n",
              "    async function quickchart(key) {\n",
              "      const quickchartButtonEl =\n",
              "        document.querySelector('#' + key + ' button');\n",
              "      quickchartButtonEl.disabled = true;  // To prevent multiple clicks.\n",
              "      quickchartButtonEl.classList.add('colab-df-spinner');\n",
              "      try {\n",
              "        const charts = await google.colab.kernel.invokeFunction(\n",
              "            'suggestCharts', [key], {});\n",
              "      } catch (error) {\n",
              "        console.error('Error during call to suggestCharts:', error);\n",
              "      }\n",
              "      quickchartButtonEl.classList.remove('colab-df-spinner');\n",
              "      quickchartButtonEl.classList.add('colab-df-quickchart-complete');\n",
              "    }\n",
              "    (() => {\n",
              "      let quickchartButtonEl =\n",
              "        document.querySelector('#df-e89112d7-ba46-4cd4-a170-aad82298105a button');\n",
              "      quickchartButtonEl.style.display =\n",
              "        google.colab.kernel.accessAllowed ? 'block' : 'none';\n",
              "    })();\n",
              "  </script>\n",
              "</div>\n",
              "\n",
              "    </div>\n",
              "  </div>\n"
            ]
          },
          "metadata": {},
          "execution_count": 14
        }
      ]
    },
    {
      "cell_type": "markdown",
      "metadata": {
        "id": "HBjy0aDYkvbL"
      },
      "source": [
        "#Naive Bayes"
      ]
    },
    {
      "cell_type": "markdown",
      "metadata": {
        "id": "lqh3vsZdkxGZ"
      },
      "source": [
        "Now we will implement a Naive Bayes Model to classify if a person has the flu or not given that he/she is experiencing some symptoms.\n",
        "\n",
        "Recall that Naive Bayes Expression is given by Bayes Rule which says: <br><br>\n",
        "<img src=\"https://equatio-api.texthelp.com/svg/%5C%20P(%5Ctextcolor%7B%232B7FBB%7D%7BClass%7D%7C%5Ctextcolor%7B%23E94D40%7D%7BFeatures%7D)%3D%5Cfrac%7BP(%5Ctextcolor%7B%23E94D40%7D%7BFeatures%7D%7C%5Ctextcolor%7B%232B7FBB%7D%7BClass%7D)%5Ccdot%20P%5Cleft(%5Ctextcolor%7B%232B7FBB%7D%7BClass%7D%5Cright)%7D%7BP(%5Ctextcolor%7B%23E94D40%7D%7BFeatures%7D)%7D\" alt=\"P of open paren C l a. s s divides F of e a. t u r e s close paren equals the fraction with numerator P of open paren F of e a. t u r e s divides C l a. s s close paren times P of open paren C l a. s s close paren and denominator P of F of e a. t u r e s\">"
      ]
    },
    {
      "cell_type": "markdown",
      "metadata": {
        "id": "Gc17RS0bmjyj"
      },
      "source": [
        "In our case, we have:\n",
        "* **F1:** Chills\n",
        "* **F2:** runny nose\n",
        "* **F3:** headache\n",
        "* **F4:** Fever\n",
        "* **Class:** Flu or No Flu\n",
        " <br>"
      ]
    },
    {
      "cell_type": "markdown",
      "metadata": {
        "id": "Glw8JM7mJh34"
      },
      "source": [
        "If the features are assumed to be independent (as is the case with the NB algorithm), the resulting formula can be simplified into: <br><img src=\"https://equatio-api.texthelp.com/svg/P%5Cleft(%5Ctextcolor%7B%233697DC%7D%7BFlu%7D%5Cmid%5Ctextcolor%7B%23E94D40%7D%7BF_1%2CF_2%2CF_3%2CF_4%7D%5Cright)%3D%5Cfrac%7BP%5Cleft(%5Ctextcolor%7B%23E94D40%7D%7BF_1%7D%5Cmid%5Ctextcolor%7B%232B7FBB%7D%7BFlu%7D%5Cright)%5Ccdot%20P%5Cleft(%5Ctextcolor%7B%23E94D40%7D%7BF_2%7D%5Cmid%5Ctextcolor%7B%232B7FBB%7D%7BFlu%7D%5Cright)%5Ccdot%20P%5Cleft(%5Ctextcolor%7B%23E94D40%7D%7BF_3%7D%5Cmid%5Ctextcolor%7B%232B7FBB%7D%7BFlu%7D%5Cright)%5Ccdot%20P%5Cleft(%5Ctextcolor%7B%23E94D40%7D%7BF_4%7D%5Cmid%5Ctextcolor%7B%232B7FBB%7D%7BFlu%7D%5Cright)%5Ccdot%20P(%5Ctextcolor%7B%232B7FBB%7D%7BFlu%7D)%7D%7BP%5Cleft(%5Ctextcolor%7B%23E94D40%7D%7BF_1%7D%5Cright)%5Ccdot%20P%5Cleft(%5Ctextcolor%7B%23E94D40%7D%7BF_2%7D%5Cright)%5Ccdot%20P%5Cleft(%5Ctextcolor%7B%23E94D40%7D%7BF_3%7D%5Cright)%5Ccdot%20P%5Cleft(%5Ctextcolor%7B%23E94D40%7D%7BF_4%7D%5Cright)%7D\" alt=\"P of open paren F of l u divides F sub 1 comma F sub 2 comma F sub 3 comma F sub 4 close paren equals the fraction with numerator P of open paren F sub 1 divides F of l u close paren times P of open paren F sub 2 divides F of l u close paren times P of open paren F sub 3 divides F of l u close paren times P of open paren F sub 4 divides F of l u close paren times P of F of l u and denominator P of open paren F sub 1 close paren times P of open paren F sub 2 close paren times P of open paren F sub 3 close paren times P of open paren F sub 4 close paren\">"
      ]
    },
    {
      "cell_type": "markdown",
      "metadata": {
        "id": "10IrB3mxnIVL"
      },
      "source": [
        "Of course, NB's assumption of independence might not be valid, thus, leading to class conditional probabilities that are not accurate.\n",
        "\n",
        "However, the equation will still help us get an idea about how high or low the probability is.\n",
        "\n",
        "Since the denomenator is the same for both P(Flu) and P(No Flu), we can cancel the denomenator and base the classification on the numerator value alone. <br><br>\n",
        "<img src=\"https://equatio-api.texthelp.com/svg/P%5Cleft(%5Ctextcolor%7B%233697DC%7D%7BFlu%7D%5Cmid%5Ctextcolor%7B%23E94D40%7D%7BF_1%2CF_2%2CF_3%2CF_4%7D%5Cright)%5Cpropto%20P%5Cleft(%5Ctextcolor%7B%23E94D40%7D%7BF_1%7D%5Cmid%5Ctextcolor%7B%232B7FBB%7D%7BFlu%7D%5Cright)%5Ccdot%20P%5Cleft(%5Ctextcolor%7B%23E94D40%7D%7BF_2%7D%5Cmid%5Ctextcolor%7B%232B7FBB%7D%7BFlu%7D%5Cright)%5Ccdot%20P%5Cleft(%5Ctextcolor%7B%23E94D40%7D%7BF_3%7D%5Cmid%5Ctextcolor%7B%232B7FBB%7D%7BFlu%7D%5Cright)%5Ccdot%20P%5Cleft(%5Ctextcolor%7B%23E94D40%7D%7BF_4%7D%5Cmid%5Ctextcolor%7B%232B7FBB%7D%7BFlu%7D%5Cright)%5Ccdot%20P(%5Ctextcolor%7B%232B7FBB%7D%7BFlu%7D)\" alt=\"P of open paren F of l u divides F sub 1 comma F sub 2 comma F sub 3 comma F sub 4 close paren proportional to P of open paren F sub 1 divides F of l u close paren times P of open paren F sub 2 divides F of l u close paren times P of open paren F sub 3 divides F of l u close paren times P of open paren F sub 4 divides F of l u close paren times P of F of l u\">"
      ]
    },
    {
      "cell_type": "markdown",
      "metadata": {
        "id": "j4ORaYPFoVJF"
      },
      "source": [
        "So, given a set of features, what we do is calculate P1 and P2, which are P(Flu) and P(No Flu), respectively.  Finally, the larger between them is chosen to be the predicted class for the given data sample.<br> <br>\n",
        "<img src=\"https://equatio-api.texthelp.com/svg/P_1%3DP%5Cleft(%5Ctextcolor%7B%23E94D40%7D%7BF_1%7D%5Cmid%5Ctextcolor%7B%232B7FBB%7D%7BFlu%3DYES%7D%5Cright)%5Ccdot%20P%5Cleft(%5Ctextcolor%7B%23E94D40%7D%7BF_2%7D%5Cmid%5Ctextcolor%7B%232B7FBB%7D%7BFlu%3DYES%7D%5Cright)%5Ccdot%20P%5Cleft(%5Ctextcolor%7B%23E94D40%7D%7BF_3%7D%5Cmid%5Ctextcolor%7B%232B7FBB%7D%7BFlu%3DYES%7D%5Cright)%5Ccdot%20P%5Cleft(%5Ctextcolor%7B%23E94D40%7D%7BF_4%7D%5Cmid%5Ctextcolor%7B%232B7FBB%7D%7BFlu%3DYES%7D%5Cright)%5Ccdot%20P(%5Ctextcolor%7B%232B7FBB%7D%7BFlu%3DYES%7D)%5C%20%5Cpropto%20P%5Cleft(%5Ctextcolor%7B%232B7FBB%7D%7BFlu%3DYES%7D%5Cmid%5Ctextcolor%7B%23E94D40%7D%7BF_1%2CF_2%2CF_3%2CF_4%7D%5Cright)\" alt=\"P sub 1 equals P of open paren F sub 1 divides F of l u equals Y E S close paren times P of open paren F sub 2 divides F of l u equals Y E S close paren times P of open paren F sub 3 divides F of l u equals Y E S close paren times P of open paren F sub 4 divides F of l u equals Y E S close paren times P of open paren F of l u equals Y E S close paren proportional to P of open paren F of l u equals Y E S divides F sub 1 comma F sub 2 comma F sub 3 comma F sub 4 close paren\">\n",
        "<br>\n",
        "<img src=\"https://equatio-api.texthelp.com/svg/P_2%3DP%5Cleft(%5Ctextcolor%7B%23E94D40%7D%7BF_1%7D%5Cmid%5Ctextcolor%7B%232B7FBB%7D%7BFlu%3DNO%7D%5Cright)%5Ccdot%20P%5Cleft(%5Ctextcolor%7B%23E94D40%7D%7BF_2%7D%5Cmid%5Ctextcolor%7B%232B7FBB%7D%7BFlu%3DNO%7D%5Cright)%5Ccdot%20P%5Cleft(%5Ctextcolor%7B%23E94D40%7D%7BF_3%7D%5Cmid%5Ctextcolor%7B%232B7FBB%7D%7BFlu%3DNO%7D%5Cright)%5Ccdot%20P%5Cleft(%5Ctextcolor%7B%23E94D40%7D%7BF_4%7D%5Cmid%5Ctextcolor%7B%232B7FBB%7D%7BFlu%3DNO%7D%5Cright)%5Ccdot%20P(%5Ctextcolor%7B%232B7FBB%7D%7BFlu%3DNO%7D)%5C%20%5Cpropto%20P%5Cleft(%5Ctextcolor%7B%232B7FBB%7D%7BFlu%3DNO%7D%5Cmid%5Ctextcolor%7B%23E94D40%7D%7BF_1%2CF_2%2CF_3%2CF_4%7D%5Cright)\" alt=\"P sub 2 equals P of open paren F sub 1 divides F of l u equals N O close paren times P of open paren F sub 2 divides F of l u equals N O close paren times P of open paren F sub 3 divides F of l u equals N O close paren times P of open paren F sub 4 divides F of l u equals N O close paren times P of open paren F of l u equals N O close paren proportional to P of open paren F of l u equals N O divides F sub 1 comma F sub 2 comma F sub 3 comma F sub 4 close paren\">\n",
        "<br>\n"
      ]
    },
    {
      "cell_type": "markdown",
      "metadata": {
        "id": "npm8dKTTWVU6"
      },
      "source": [
        "* If P1>P2 --> The Person has the flu\n",
        "* If P1<P2 --> The person does not have the flu"
      ]
    },
    {
      "cell_type": "markdown",
      "metadata": {
        "id": "66SUQ2rnUFH2"
      },
      "source": [
        "## Naive Bayes in Scikit learn"
      ]
    },
    {
      "cell_type": "code",
      "metadata": {
        "id": "bmu_NuSqUK_8",
        "colab": {
          "base_uri": "https://localhost:8080/"
        },
        "outputId": "c6661c73-2f47-4084-acf3-bac3a21eab16"
      },
      "source": [
        "from sklearn.naive_bayes import CategoricalNB\n",
        "\n",
        "X = df.drop('Flu',axis=1)\n",
        "\n",
        "Y = df['Flu']\n",
        "\n",
        "\n",
        "clf = CategoricalNB()\n",
        "clf.fit(X, Y)\n",
        "\n",
        "result = clf.predict([[1,1,1,1]])\n",
        "print(result)\n",
        "\n",
        "#We can predict the probability of the class here.\n",
        "print(clf.predict_proba([[1,1,1,1]]))"
      ],
      "execution_count": 18,
      "outputs": [
        {
          "output_type": "stream",
          "name": "stdout",
          "text": [
            "[1]\n",
            "[[0.14938211 0.85061789]]\n"
          ]
        },
        {
          "output_type": "stream",
          "name": "stderr",
          "text": [
            "/usr/local/lib/python3.10/dist-packages/sklearn/base.py:439: UserWarning: X does not have valid feature names, but CategoricalNB was fitted with feature names\n",
            "  warnings.warn(\n",
            "/usr/local/lib/python3.10/dist-packages/sklearn/base.py:439: UserWarning: X does not have valid feature names, but CategoricalNB was fitted with feature names\n",
            "  warnings.warn(\n"
          ]
        }
      ]
    },
    {
      "cell_type": "markdown",
      "metadata": {
        "id": "BbfQ6lMfflIK"
      },
      "source": [
        "Class 1 has a higher probability, which means the person HAS the flu."
      ]
    }
  ]
}